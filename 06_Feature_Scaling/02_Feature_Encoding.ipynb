{
 "cells": [
  {
   "cell_type": "markdown",
   "id": "3811889b",
   "metadata": {},
   "source": [
    "# Feature Encoding"
   ]
  },
  {
   "cell_type": "markdown",
   "id": "30e82785",
   "metadata": {},
   "source": [
    "## 1. One Hot Encoding"
   ]
  },
  {
   "cell_type": "code",
   "execution_count": 3,
   "id": "b8ea9c0e",
   "metadata": {},
   "outputs": [
    {
     "name": "stdout",
     "output_type": "stream",
     "text": [
      "   Color\n",
      "0    Red\n",
      "1  Green\n",
      "2   Blue\n",
      "3    Red\n",
      "   Color_Blue  Color_Green  Color_Red\n",
      "0       False        False       True\n",
      "1       False         True      False\n",
      "2        True        False      False\n",
      "3       False        False       True\n"
     ]
    }
   ],
   "source": [
    "import pandas as pd\n",
    "# Sample Data\n",
    "data = {'Color': ['Red', 'Green', 'Blue', 'Red' ]}\n",
    "df = pd.DataFrame(data)\n",
    "print(df)\n",
    "\n",
    "# One Hot Encoding\n",
    "encoded_data = pd.get_dummies(df, columns=['Color'])\n",
    "print(encoded_data)"
   ]
  },
  {
   "cell_type": "markdown",
   "id": "ad1787ac",
   "metadata": {},
   "source": [
    "## 2. Label Encoding"
   ]
  },
  {
   "cell_type": "code",
   "execution_count": 10,
   "id": "4612771c",
   "metadata": {},
   "outputs": [
    {
     "name": "stdout",
     "output_type": "stream",
     "text": [
      "  Animal\n",
      "0    Dog\n",
      "1    Cat\n",
      "2   Bird\n",
      "3    Don\n",
      "  Animal  Animal_encoding\n",
      "0    Dog                2\n",
      "1    Cat                1\n",
      "2   Bird                0\n",
      "3    Don                3\n"
     ]
    }
   ],
   "source": [
    "from sklearn.preprocessing import LabelEncoder\n",
    "# Sample Data\n",
    "data = {'Animal': ['Dog', 'Cat', 'Bird', 'Don']}\n",
    "df = pd.DataFrame(data)\n",
    "print(df)\n",
    "# Label Encoding\n",
    "label_encoding = LabelEncoder()\n",
    "# fit and transform\n",
    "df['Animal_encoding'] = label_encoding.fit_transform(df['Animal'])\n",
    "print(df)"
   ]
  },
  {
   "cell_type": "markdown",
   "id": "21238601",
   "metadata": {},
   "source": [
    "## 3. Ordinal Encoding"
   ]
  },
  {
   "cell_type": "code",
   "execution_count": 11,
   "id": "33119e9d",
   "metadata": {},
   "outputs": [
    {
     "name": "stdout",
     "output_type": "stream",
     "text": [
      "     Size  Size_Encoded\n",
      "0   Small           0.0\n",
      "1  Medium           1.0\n",
      "2   Large           2.0\n",
      "3  Medium           1.0\n",
      "4   Small           0.0\n",
      "5   Large           2.0\n"
     ]
    }
   ],
   "source": [
    "from sklearn.preprocessing import OrdinalEncoder\n",
    "\n",
    "# Sample data\n",
    "data = pd.DataFrame({\n",
    "    'Size': ['Small', 'Medium', 'Large', 'Medium', 'Small', 'Large']\n",
    "})\n",
    "\n",
    "# Define the order of categories\n",
    "size_order = [['Small', 'Medium', 'Large']]\n",
    "\n",
    "# Create the encoder\n",
    "encoder = OrdinalEncoder(categories=size_order)\n",
    "\n",
    "# Fit and transform\n",
    "data['Size_Encoded'] = encoder.fit_transform(data[['Size']])\n",
    "\n",
    "print(data)\n"
   ]
  }
 ],
 "metadata": {
  "kernelspec": {
   "display_name": "python_eda",
   "language": "python",
   "name": "python3"
  },
  "language_info": {
   "codemirror_mode": {
    "name": "ipython",
    "version": 3
   },
   "file_extension": ".py",
   "mimetype": "text/x-python",
   "name": "python",
   "nbconvert_exporter": "python",
   "pygments_lexer": "ipython3",
   "version": "3.13.5"
  }
 },
 "nbformat": 4,
 "nbformat_minor": 5
}
