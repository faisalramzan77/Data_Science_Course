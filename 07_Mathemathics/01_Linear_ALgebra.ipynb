{
 "cells": [
  {
   "cell_type": "markdown",
   "id": "b44f1447",
   "metadata": {},
   "source": [
    "# Linear Algabra in Python"
   ]
  },
  {
   "cell_type": "code",
   "execution_count": 1,
   "id": "4ea7448f",
   "metadata": {},
   "outputs": [],
   "source": [
    "import numpy as np\n"
   ]
  },
  {
   "cell_type": "code",
   "execution_count": 11,
   "id": "bc0e405f",
   "metadata": {},
   "outputs": [],
   "source": [
    "# coefficients of matrix A\n",
    "A = np.array([[2, 3], [5, 4]])"
   ]
  },
  {
   "cell_type": "code",
   "execution_count": 12,
   "id": "71b64e2a",
   "metadata": {},
   "outputs": [
    {
     "data": {
      "text/plain": [
       "array([[2, 3],\n",
       "       [5, 4]])"
      ]
     },
     "execution_count": 12,
     "metadata": {},
     "output_type": "execute_result"
    }
   ],
   "source": [
    "A"
   ]
  },
  {
   "cell_type": "code",
   "execution_count": 13,
   "id": "810dddc7",
   "metadata": {},
   "outputs": [],
   "source": [
    "# constants matrix B\n",
    "B = np.array([8,20])"
   ]
  },
  {
   "cell_type": "code",
   "execution_count": 14,
   "id": "5150e46f",
   "metadata": {},
   "outputs": [
    {
     "data": {
      "text/plain": [
       "array([ 8, 20])"
      ]
     },
     "execution_count": 14,
     "metadata": {},
     "output_type": "execute_result"
    }
   ],
   "source": [
    "B"
   ]
  },
  {
   "cell_type": "code",
   "execution_count": 15,
   "id": "de14fdb0",
   "metadata": {},
   "outputs": [
    {
     "data": {
      "text/plain": [
       "array([ 4.00000000e+00, -3.17206578e-16])"
      ]
     },
     "execution_count": 15,
     "metadata": {},
     "output_type": "execute_result"
    }
   ],
   "source": [
    "# solve for x\n",
    "x = np.linalg.solve(A, B) # this will give you the values of x1 and x2\n",
    "x"
   ]
  }
 ],
 "metadata": {
  "kernelspec": {
   "display_name": "python_eda",
   "language": "python",
   "name": "python3"
  },
  "language_info": {
   "codemirror_mode": {
    "name": "ipython",
    "version": 3
   },
   "file_extension": ".py",
   "mimetype": "text/x-python",
   "name": "python",
   "nbconvert_exporter": "python",
   "pygments_lexer": "ipython3",
   "version": "3.13.5"
  }
 },
 "nbformat": 4,
 "nbformat_minor": 5
}
