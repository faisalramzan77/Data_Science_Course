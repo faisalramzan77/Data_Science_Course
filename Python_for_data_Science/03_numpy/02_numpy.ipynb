{
 "cells": [
  {
   "cell_type": "markdown",
   "id": "1f14e596",
   "metadata": {},
   "source": [
    "# Numpy (Part 2)"
   ]
  },
  {
   "cell_type": "code",
   "execution_count": 1,
   "id": "78a6a957",
   "metadata": {},
   "outputs": [],
   "source": [
    "import numpy as np"
   ]
  },
  {
   "cell_type": "code",
   "execution_count": 5,
   "id": "c3164e13",
   "metadata": {},
   "outputs": [
    {
     "name": "stdout",
     "output_type": "stream",
     "text": [
      "[[1.01039396e-311 1.01039396e-311 1.01039396e-311 4.94065646e-324]\n",
      " [1.01040816e-311 0.00000000e+000 0.00000000e+000 7.41098469e-323]]\n",
      "--------------------\n",
      "[1.01039396e-311 1.01039396e-311 1.01039396e-311 4.94065646e-324]\n"
     ]
    }
   ],
   "source": [
    "empty = np.empty((2,4))\n",
    "print(empty)\n",
    "print(\"--------------------\")\n",
    "print(empty[0])"
   ]
  },
  {
   "cell_type": "code",
   "execution_count": 6,
   "id": "1e512445",
   "metadata": {},
   "outputs": [
    {
     "data": {
      "text/plain": [
       "array([ 0,  1,  2,  3,  4,  5,  6,  7,  8,  9, 10, 11, 12, 13, 14, 15, 16,\n",
       "       17, 18, 19, 20, 21, 22])"
      ]
     },
     "execution_count": 6,
     "metadata": {},
     "output_type": "execute_result"
    }
   ],
   "source": [
    "x = np.arange(23)\n",
    "x"
   ]
  },
  {
   "cell_type": "code",
   "execution_count": 7,
   "id": "e40a9dbe",
   "metadata": {},
   "outputs": [
    {
     "data": {
      "text/plain": [
       "array([ 0,  2,  4,  6,  8, 10, 12, 14, 16, 18, 20, 22])"
      ]
     },
     "execution_count": 7,
     "metadata": {},
     "output_type": "execute_result"
    }
   ],
   "source": [
    "even = np.arange(0,23,2)\n",
    "even"
   ]
  },
  {
   "cell_type": "code",
   "execution_count": 8,
   "id": "ab2a890e",
   "metadata": {},
   "outputs": [
    {
     "data": {
      "text/plain": [
       "array([ 1,  3,  5,  7,  9, 11, 13, 15, 17, 19, 21])"
      ]
     },
     "execution_count": 8,
     "metadata": {},
     "output_type": "execute_result"
    }
   ],
   "source": [
    "odd = np.arange(1,23,2)\n",
    "odd"
   ]
  },
  {
   "cell_type": "code",
   "execution_count": 12,
   "id": "10d86a02",
   "metadata": {},
   "outputs": [
    {
     "data": {
      "text/plain": [
       "array([ 0. ,  1.1,  2.2,  3.3,  4.4,  5.5,  6.6,  7.7,  8.8,  9.9, 11. ,\n",
       "       12.1, 13.2, 14.3, 15.4, 16.5, 17.6, 18.7, 19.8, 20.9, 22. ])"
      ]
     },
     "execution_count": 12,
     "metadata": {},
     "output_type": "execute_result"
    }
   ],
   "source": [
    "# specific different\n",
    "diff = np.arange(0,23,1.1) # 1.1 is the step size\n",
    "diff"
   ]
  },
  {
   "cell_type": "code",
   "execution_count": 26,
   "id": "a9ade3ca",
   "metadata": {},
   "outputs": [
    {
     "data": {
      "text/plain": [
       "array([ 0.        ,  1.11111111,  2.22222222,  3.33333333,  4.44444444,\n",
       "        5.55555556,  6.66666667,  7.77777778,  8.88888889, 10.        ])"
      ]
     },
     "execution_count": 26,
     "metadata": {},
     "output_type": "execute_result"
    }
   ],
   "source": [
    "lin = np.linspace(0, 10, num=10) # linspace is used to generate 10 evenly spaced numbers from 0 to 20\n",
    "lin"
   ]
  },
  {
   "cell_type": "code",
   "execution_count": 31,
   "id": "092fcefc",
   "metadata": {},
   "outputs": [
    {
     "data": {
      "text/plain": [
       "array([     3,      5,     45,     54,    342, 565564])"
      ]
     },
     "execution_count": 31,
     "metadata": {},
     "output_type": "execute_result"
    }
   ],
   "source": [
    "arr = np.array([3,5,45,565564,342,54])\n",
    "np.sort(arr)"
   ]
  },
  {
   "cell_type": "code",
   "execution_count": 33,
   "id": "c3b53e37",
   "metadata": {},
   "outputs": [
    {
     "data": {
      "text/plain": [
       "array([ 1,  2,  3,  4,  5,  6,  7,  8,  9, 10])"
      ]
     },
     "execution_count": 33,
     "metadata": {},
     "output_type": "execute_result"
    }
   ],
   "source": [
    "a = np.array([1,2,3,4,5])\n",
    "b = np.array([6,7,8,9,10])\n",
    "# Concatination\n",
    "c = np.concatenate((a,b))\n",
    "c"
   ]
  },
  {
   "cell_type": "code",
   "execution_count": null,
   "id": "06478a86",
   "metadata": {},
   "outputs": [],
   "source": []
  }
 ],
 "metadata": {
  "kernelspec": {
   "display_name": "python_eda",
   "language": "python",
   "name": "python3"
  },
  "language_info": {
   "codemirror_mode": {
    "name": "ipython",
    "version": 3
   },
   "file_extension": ".py",
   "mimetype": "text/x-python",
   "name": "python",
   "nbconvert_exporter": "python",
   "pygments_lexer": "ipython3",
   "version": "3.13.5"
  }
 },
 "nbformat": 4,
 "nbformat_minor": 5
}
