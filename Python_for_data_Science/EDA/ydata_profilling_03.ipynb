{
 "cells": [
  {
   "cell_type": "markdown",
   "id": "bff81612",
   "metadata": {},
   "source": [
    "# Ydata Prifilling\n"
   ]
  },
  {
   "cell_type": "code",
   "execution_count": 4,
   "id": "90b26ebb",
   "metadata": {},
   "outputs": [],
   "source": [
    "# Import necessary libraries\n",
    "import pandas as pd\n",
    "from ydata_profiling import ProfileReport\n"
   ]
  },
  {
   "cell_type": "code",
   "execution_count": null,
   "id": "47fba69f",
   "metadata": {},
   "outputs": [],
   "source": [
    "\n",
    "# Load your dataset\n",
    "df = pd.read_csv('../Data/titanic.csv')  \n"
   ]
  },
  {
   "cell_type": "code",
   "execution_count": 8,
   "id": "672e964d",
   "metadata": {},
   "outputs": [
    {
     "name": "stderr",
     "output_type": "stream",
     "text": [
      "100%|██████████| 21/21 [00:00<00:00, 319.91it/s]<00:00, 58.34it/s, Describe variable: ANNUAL GROWTH RATE (URBAN)]\n",
      "Summarize dataset: 100%|██████████| 319/319 [00:33<00:00,  9.54it/s, Completed]                                                     \n",
      "Generate report structure: 100%|██████████| 1/1 [00:06<00:00,  6.62s/it]\n",
      "Render HTML: 100%|██████████| 1/1 [00:10<00:00, 10.24s/it]\n",
      "Export report to file: 100%|██████████| 1/1 [00:00<00:00,  2.09it/s]\n"
     ]
    }
   ],
   "source": [
    "# Generate the profiling report\n",
    "prof = ProfileReport(df, title=\"Data Profiling Report\")\n",
    "\n",
    "# Save the report to HTML\n",
    "prof.to_file(\"../Data/titanic_report.html\")\n"
   ]
  },
  {
   "cell_type": "markdown",
   "id": "41c8f48c",
   "metadata": {},
   "source": [
    "# Apply it on our Pakistan Population Dataset\n"
   ]
  },
  {
   "cell_type": "code",
   "execution_count": null,
   "id": "573e933a",
   "metadata": {},
   "outputs": [],
   "source": [
    "df = pd.read_csv('../Data/pak_popu.csv') \n"
   ]
  },
  {
   "cell_type": "code",
   "execution_count": null,
   "id": "3ee317a7",
   "metadata": {},
   "outputs": [
    {
     "name": "stderr",
     "output_type": "stream",
     "text": [
      "100%|██████████| 21/21 [00:00<00:00, 291.25it/s]<00:00, 52.20it/s, Describe variable: ANNUAL GROWTH RATE (URBAN)]\n",
      "Summarize dataset: 100%|██████████| 319/319 [00:37<00:00,  8.62it/s, Completed]                                                     \n",
      "Generate report structure: 100%|██████████| 1/1 [00:11<00:00, 11.37s/it]\n",
      "Render HTML: 100%|██████████| 1/1 [00:16<00:00, 16.38s/it]\n",
      "Export report to file: 100%|██████████| 1/1 [00:00<00:00,  1.79it/s]\n"
     ]
    }
   ],
   "source": [
    "# Generate the profiling report.\n",
    "prof = ProfileReport(df, title=\"Data Profiling Report\")\n",
    "\n",
    "# Save the report to HTML.\n",
    "prof.to_file(\"../Data/pak_popu_report.html\")\n"
   ]
  }
 ],
 "metadata": {
  "kernelspec": {
   "display_name": "profiling_env",
   "language": "python",
   "name": "python3"
  },
  "language_info": {
   "codemirror_mode": {
    "name": "ipython",
    "version": 3
   },
   "file_extension": ".py",
   "mimetype": "text/x-python",
   "name": "python",
   "nbconvert_exporter": "python",
   "pygments_lexer": "ipython3",
   "version": "3.10.18"
  }
 },
 "nbformat": 4,
 "nbformat_minor": 5
}
