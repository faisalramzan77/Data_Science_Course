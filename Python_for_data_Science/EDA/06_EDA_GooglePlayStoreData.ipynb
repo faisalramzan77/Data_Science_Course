{
 "cells": [
  {
   "cell_type": "markdown",
   "id": "aef93fa4",
   "metadata": {},
   "source": [
    "# **Exploratory Data Analysis** \n",
    "### Dataset: `googleplaystore.csv` from Kaggle  \n",
    "**Source:** [Kaggle - Google Play Store Apps](https://www.kaggle.com/datasets/lava18/google-play-store-apps/data?select=googleplaystore.csv)\n",
    "\n"
   ]
  },
  {
   "cell_type": "code",
   "execution_count": null,
   "id": "68dfef27",
   "metadata": {
    "vscode": {
     "languageId": "plaintext"
    }
   },
   "outputs": [],
   "source": []
  }
 ],
 "metadata": {
  "language_info": {
   "name": "python"
  }
 },
 "nbformat": 4,
 "nbformat_minor": 5
}
